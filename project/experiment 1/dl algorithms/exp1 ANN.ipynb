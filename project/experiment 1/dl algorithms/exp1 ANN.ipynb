{
 "cells": [
  {
   "cell_type": "code",
   "execution_count": 1,
   "id": "aa4d0f51",
   "metadata": {},
   "outputs": [],
   "source": [
    "import torch\n",
    "import numpy as np\n",
    "import matplotlib.pyplot as plt\n",
    "import torch.nn as nn\n",
    "from torch.autograd import Variable\n",
    "import torch.cuda as cuda\n",
    "from torch.utils.data import Dataset\n",
    "from torch.utils.data import DataLoader\n",
    "import torch.nn.functional as F\n",
    "from sklearn.model_selection import train_test_split\n",
    "from sklearn.preprocessing import StandardScaler\n",
    "from sklearn.preprocessing import LabelEncoder\n",
    "from torch.autograd import Variable\n",
    "from torch.utils.data import TensorDataset"
   ]
  },
  {
   "cell_type": "code",
   "execution_count": 2,
   "id": "743a9773",
   "metadata": {},
   "outputs": [],
   "source": [
    "features = np.load('dnnx_exp1.npy',allow_pickle=True)\n",
    "labels = np.load('y_exp1.npy',allow_pickle=True)"
   ]
  },
  {
   "cell_type": "code",
   "execution_count": 3,
   "id": "3c2e5546",
   "metadata": {},
   "outputs": [
    {
     "data": {
      "text/plain": [
       "(239999, 24)"
      ]
     },
     "execution_count": 3,
     "metadata": {},
     "output_type": "execute_result"
    }
   ],
   "source": [
    "features.shape"
   ]
  },
  {
   "cell_type": "code",
   "execution_count": 4,
   "id": "1bfc5c4d",
   "metadata": {},
   "outputs": [
    {
     "data": {
      "text/plain": [
       "(239999,)"
      ]
     },
     "execution_count": 4,
     "metadata": {},
     "output_type": "execute_result"
    }
   ],
   "source": [
    "labels.shape"
   ]
  },
  {
   "cell_type": "code",
   "execution_count": 5,
   "id": "c0189e48",
   "metadata": {},
   "outputs": [],
   "source": [
    "scaler = StandardScaler()\n",
    "features = scaler.fit_transform(features)"
   ]
  },
  {
   "cell_type": "code",
   "execution_count": 6,
   "id": "1f98128d",
   "metadata": {},
   "outputs": [
    {
     "data": {
      "text/plain": [
       "True"
      ]
     },
     "execution_count": 6,
     "metadata": {},
     "output_type": "execute_result"
    }
   ],
   "source": [
    "import torch.cuda as cuda\n",
    "torch.cuda.is_available()"
   ]
  },
  {
   "cell_type": "code",
   "execution_count": 7,
   "id": "d4b66d6f",
   "metadata": {},
   "outputs": [],
   "source": [
    "encoder = LabelEncoder()\n",
    "integer_labels = encoder.fit_transform(labels)\n",
    "labels = integer_labels.reshape(-1)"
   ]
  },
  {
   "cell_type": "code",
   "execution_count": 8,
   "id": "85a0d47f",
   "metadata": {},
   "outputs": [],
   "source": [
    "features = torch.from_numpy(features)\n",
    "labels = torch.from_numpy(labels)"
   ]
  },
  {
   "cell_type": "code",
   "execution_count": 9,
   "id": "8b7666dc",
   "metadata": {},
   "outputs": [],
   "source": [
    "X_train, X_test, y_train, y_test = train_test_split(features,labels, test_size=0.125, random_state=42)"
   ]
  },
  {
   "cell_type": "code",
   "execution_count": 10,
   "id": "41a3c40e",
   "metadata": {},
   "outputs": [],
   "source": [
    "X_train, X_val, y_train, y_val = train_test_split(X_train, y_train, test_size=0.1428, random_state=42)"
   ]
  },
  {
   "cell_type": "code",
   "execution_count": 11,
   "id": "f1f1d960",
   "metadata": {},
   "outputs": [],
   "source": [
    "train_set = TensorDataset(X_train,y_train)\n",
    "val_set = TensorDataset(X_val,y_val)"
   ]
  },
  {
   "cell_type": "code",
   "execution_count": 12,
   "id": "5717e25f",
   "metadata": {},
   "outputs": [],
   "source": [
    "batch_size = 2048\n",
    "train_loader = DataLoader(train_set,batch_size=batch_size,shuffle=True,num_workers=1)\n",
    "val_loader = DataLoader(val_set,batch_size=batch_size,shuffle=True,num_workers=1)"
   ]
  },
  {
   "cell_type": "code",
   "execution_count": 13,
   "id": "361d6c57",
   "metadata": {},
   "outputs": [],
   "source": [
    " class ANNClassifier(nn.Module):\n",
    "        def __init__(self,input_size,h1,h2,h3,h4,h5,output_size):\n",
    "            super(ANNClassifier,self).__init__()\n",
    "            self.fc1 = nn.Linear(input_size,h1)\n",
    "            self.relu1 = nn.ReLU()\n",
    "            self.dropout1 = nn.Dropout(0.25)\n",
    "            self.fc2 = nn.Linear(h1,h2)\n",
    "            self.relu2 = nn.ReLU()\n",
    "            self.dropout2 = nn.Dropout(0.25)\n",
    "            self.fc3 = nn.Linear(h2,h3)\n",
    "            self.relu3 = nn.ReLU()\n",
    "            self.dropout3 = nn.Dropout(0.25)\n",
    "            self.fc4 = nn.Linear(h3,h4)\n",
    "            self.relu4 = nn.ReLU()\n",
    "            self.dropout4 = nn.Dropout(0.25)\n",
    "            self.fc5 = nn.Linear(h4,h5)\n",
    "            self.relu5 = nn.ReLU()\n",
    "            self.dropout5 = nn.Dropout(0.25)\n",
    "            self.fc6 = nn.Linear(h5,output_size)\n",
    "            \n",
    "        def forward(self,x):\n",
    "            x = self.fc1(x)\n",
    "            x = self.relu1(x)\n",
    "            x = self.dropout1(x)\n",
    "            x = self.fc2(x)\n",
    "            x = self.relu2(x)\n",
    "            x = self.dropout2(x)\n",
    "            x = self.fc3(x)\n",
    "            x = self.relu3(x)\n",
    "            x = self.dropout3(x)\n",
    "            x = self.fc4(x)\n",
    "            x = self.relu4(x)\n",
    "            x = self.dropout4(x)\n",
    "            x = self.fc5(x)\n",
    "            x = self.relu5(x)\n",
    "            x = self.dropout5(x)\n",
    "            x = self.fc6(x)\n",
    "            return x      \n",
    "            "
   ]
  },
  {
   "cell_type": "code",
   "execution_count": 14,
   "id": "8dc14105",
   "metadata": {},
   "outputs": [],
   "source": [
    "net = ANNClassifier(24,1024,512,256,128,64,3)\n",
    "net = net.cuda()\n",
    "criterion = nn.CrossEntropyLoss()\n",
    "lr = 0.08\n",
    "optimizer = torch.optim.SGD(net.parameters(),lr=lr)"
   ]
  },
  {
   "cell_type": "code",
   "execution_count": 15,
   "id": "b7488841",
   "metadata": {},
   "outputs": [],
   "source": [
    "num_epochs = 250\n",
    "train_loss=[]\n",
    "valid_loss=[]\n",
    "train_accuracy=[]\n",
    "valid_accuracy=[]"
   ]
  },
  {
   "cell_type": "code",
   "execution_count": 16,
   "id": "8459871e",
   "metadata": {},
   "outputs": [
    {
     "name": "stdout",
     "output_type": "stream",
     "text": [
      "epoch 1/250, trloss: 1.0555, tracc: 55.1316, valloss: 0.8592, valacc: 65.2894\n",
      "epoch 2/250, trloss: 0.6305, tracc: 73.6338, valloss: 0.4803, valacc: 82.0095\n",
      "epoch 3/250, trloss: 0.4854, tracc: 81.4984, valloss: 0.4121, valacc: 84.5805\n",
      "epoch 4/250, trloss: 0.4301, tracc: 83.9521, valloss: 0.3645, valacc: 86.2245\n",
      "epoch 5/250, trloss: 0.3899, tracc: 85.2892, valloss: 0.3333, valacc: 87.3116\n",
      "epoch 6/250, trloss: 0.3669, tracc: 86.0886, valloss: 0.3164, valacc: 87.7985\n",
      "epoch 7/250, trloss: 0.3523, tracc: 86.5458, valloss: 0.3050, valacc: 88.2253\n",
      "epoch 8/250, trloss: 0.3431, tracc: 86.9091, valloss: 0.2961, valacc: 88.5921\n",
      "epoch 9/250, trloss: 0.3340, tracc: 87.2319, valloss: 0.2901, valacc: 88.8255\n",
      "epoch 10/250, trloss: 0.3288, tracc: 87.4441, valloss: 0.2855, valacc: 88.9589\n",
      "epoch 11/250, trloss: 0.3220, tracc: 87.6930, valloss: 0.2806, valacc: 89.0823\n",
      "epoch 12/250, trloss: 0.3172, tracc: 87.8563, valloss: 0.2769, valacc: 89.3357\n",
      "epoch 13/250, trloss: 0.3142, tracc: 87.9563, valloss: 0.2743, valacc: 89.4158\n",
      "epoch 14/250, trloss: 0.3091, tracc: 88.2057, valloss: 0.2695, valacc: 89.5492\n",
      "epoch 15/250, trloss: 0.3061, tracc: 88.2379, valloss: 0.2674, valacc: 89.6158\n",
      "epoch 16/250, trloss: 0.3025, tracc: 88.4468, valloss: 0.2647, valacc: 89.7059\n",
      "epoch 17/250, trloss: 0.2996, tracc: 88.5796, valloss: 0.2622, valacc: 89.7826\n",
      "epoch 18/250, trloss: 0.2961, tracc: 88.6901, valloss: 0.2599, valacc: 89.8793\n",
      "epoch 19/250, trloss: 0.2938, tracc: 88.8351, valloss: 0.2586, valacc: 89.9493\n",
      "epoch 20/250, trloss: 0.2915, tracc: 88.8757, valloss: 0.2554, valacc: 90.0060\n",
      "epoch 21/250, trloss: 0.2885, tracc: 88.9607, valloss: 0.2530, valacc: 90.1094\n",
      "epoch 22/250, trloss: 0.2862, tracc: 89.0423, valloss: 0.2520, valacc: 90.2995\n",
      "epoch 23/250, trloss: 0.2833, tracc: 89.1840, valloss: 0.2482, valacc: 90.4095\n",
      "epoch 24/250, trloss: 0.2824, tracc: 89.1412, valloss: 0.2463, valacc: 90.4795\n",
      "epoch 25/250, trloss: 0.2793, tracc: 89.3479, valloss: 0.2458, valacc: 90.5596\n",
      "epoch 26/250, trloss: 0.2776, tracc: 89.4123, valloss: 0.2434, valacc: 90.5762\n",
      "epoch 27/250, trloss: 0.2749, tracc: 89.5106, valloss: 0.2433, valacc: 90.6263\n",
      "epoch 28/250, trloss: 0.2739, tracc: 89.5562, valloss: 0.2405, valacc: 90.6963\n",
      "epoch 29/250, trloss: 0.2714, tracc: 89.6901, valloss: 0.2397, valacc: 90.7830\n",
      "epoch 30/250, trloss: 0.2688, tracc: 89.7129, valloss: 0.2366, valacc: 90.8630\n",
      "epoch 31/250, trloss: 0.2680, tracc: 89.8012, valloss: 0.2360, valacc: 90.9097\n",
      "epoch 32/250, trloss: 0.2665, tracc: 89.8328, valloss: 0.2362, valacc: 90.9164\n",
      "epoch 33/250, trloss: 0.2648, tracc: 89.8845, valloss: 0.2342, valacc: 90.9497\n",
      "epoch 34/250, trloss: 0.2645, tracc: 89.9456, valloss: 0.2346, valacc: 91.0297\n",
      "epoch 35/250, trloss: 0.2626, tracc: 90.0023, valloss: 0.2328, valacc: 90.9364\n",
      "epoch 36/250, trloss: 0.2605, tracc: 90.0517, valloss: 0.2321, valacc: 91.1365\n",
      "epoch 37/250, trloss: 0.2589, tracc: 90.1989, valloss: 0.2296, valacc: 91.2898\n",
      "epoch 38/250, trloss: 0.2585, tracc: 90.1489, valloss: 0.2282, valacc: 91.3599\n",
      "epoch 39/250, trloss: 0.2570, tracc: 90.2545, valloss: 0.2280, valacc: 91.3099\n",
      "epoch 40/250, trloss: 0.2554, tracc: 90.3561, valloss: 0.2259, valacc: 91.3232\n",
      "epoch 41/250, trloss: 0.2544, tracc: 90.3050, valloss: 0.2252, valacc: 91.3199\n",
      "epoch 42/250, trloss: 0.2527, tracc: 90.3584, valloss: 0.2247, valacc: 91.4232\n",
      "epoch 43/250, trloss: 0.2514, tracc: 90.4639, valloss: 0.2215, valacc: 91.4833\n",
      "epoch 44/250, trloss: 0.2500, tracc: 90.4895, valloss: 0.2228, valacc: 91.5399\n",
      "epoch 45/250, trloss: 0.2496, tracc: 90.5478, valloss: 0.2207, valacc: 91.5333\n",
      "epoch 46/250, trloss: 0.2490, tracc: 90.5506, valloss: 0.2194, valacc: 91.6533\n",
      "epoch 47/250, trloss: 0.2473, tracc: 90.6245, valloss: 0.2188, valacc: 91.6567\n",
      "epoch 48/250, trloss: 0.2467, tracc: 90.6639, valloss: 0.2184, valacc: 91.6333\n",
      "epoch 49/250, trloss: 0.2448, tracc: 90.7706, valloss: 0.2168, valacc: 91.6700\n",
      "epoch 50/250, trloss: 0.2451, tracc: 90.6533, valloss: 0.2167, valacc: 91.7900\n",
      "epoch 51/250, trloss: 0.2434, tracc: 90.7567, valloss: 0.2156, valacc: 91.8134\n",
      "epoch 52/250, trloss: 0.2421, tracc: 90.8344, valloss: 0.2154, valacc: 91.7767\n",
      "epoch 53/250, trloss: 0.2409, tracc: 90.9389, valloss: 0.2161, valacc: 91.7667\n",
      "epoch 54/250, trloss: 0.2402, tracc: 90.8628, valloss: 0.2137, valacc: 91.8367\n",
      "epoch 55/250, trloss: 0.2400, tracc: 90.9894, valloss: 0.2127, valacc: 91.9268\n",
      "epoch 56/250, trloss: 0.2401, tracc: 90.9189, valloss: 0.2122, valacc: 91.8834\n",
      "epoch 57/250, trloss: 0.2382, tracc: 91.0178, valloss: 0.2113, valacc: 91.9034\n",
      "epoch 58/250, trloss: 0.2371, tracc: 91.0205, valloss: 0.2129, valacc: 91.8634\n",
      "epoch 59/250, trloss: 0.2374, tracc: 91.0150, valloss: 0.2098, valacc: 92.0268\n",
      "epoch 60/250, trloss: 0.2357, tracc: 91.1283, valloss: 0.2098, valacc: 91.9768\n",
      "epoch 61/250, trloss: 0.2343, tracc: 91.1744, valloss: 0.2089, valacc: 91.9768\n",
      "epoch 62/250, trloss: 0.2341, tracc: 91.1589, valloss: 0.2091, valacc: 92.0368\n",
      "epoch 63/250, trloss: 0.2341, tracc: 91.1455, valloss: 0.2089, valacc: 91.9835\n",
      "epoch 64/250, trloss: 0.2334, tracc: 91.1450, valloss: 0.2093, valacc: 92.0135\n",
      "epoch 65/250, trloss: 0.2323, tracc: 91.2755, valloss: 0.2072, valacc: 92.0568\n",
      "epoch 66/250, trloss: 0.2332, tracc: 91.2472, valloss: 0.2064, valacc: 92.0735\n",
      "epoch 67/250, trloss: 0.2309, tracc: 91.3222, valloss: 0.2075, valacc: 92.1402\n",
      "epoch 68/250, trloss: 0.2298, tracc: 91.3316, valloss: 0.2053, valacc: 92.1102\n",
      "epoch 69/250, trloss: 0.2301, tracc: 91.3050, valloss: 0.2052, valacc: 92.0835\n",
      "epoch 70/250, trloss: 0.2289, tracc: 91.3439, valloss: 0.2060, valacc: 92.1369\n",
      "epoch 71/250, trloss: 0.2288, tracc: 91.3455, valloss: 0.2053, valacc: 92.1269\n",
      "epoch 72/250, trloss: 0.2284, tracc: 91.3855, valloss: 0.2046, valacc: 92.1435\n",
      "epoch 73/250, trloss: 0.2268, tracc: 91.4522, valloss: 0.2039, valacc: 92.1769\n",
      "epoch 74/250, trloss: 0.2278, tracc: 91.3672, valloss: 0.2042, valacc: 92.1369\n",
      "epoch 75/250, trloss: 0.2266, tracc: 91.4377, valloss: 0.2041, valacc: 92.1335\n",
      "epoch 76/250, trloss: 0.2264, tracc: 91.4244, valloss: 0.2031, valacc: 92.2469\n",
      "epoch 77/250, trloss: 0.2250, tracc: 91.5427, valloss: 0.2019, valacc: 92.2102\n",
      "epoch 78/250, trloss: 0.2241, tracc: 91.5522, valloss: 0.2035, valacc: 92.2669\n",
      "epoch 79/250, trloss: 0.2249, tracc: 91.4844, valloss: 0.2022, valacc: 92.2436\n",
      "epoch 80/250, trloss: 0.2230, tracc: 91.5827, valloss: 0.2021, valacc: 92.2902\n",
      "epoch 81/250, trloss: 0.2243, tracc: 91.5061, valloss: 0.2011, valacc: 92.3069\n",
      "epoch 82/250, trloss: 0.2228, tracc: 91.5755, valloss: 0.2019, valacc: 92.1902\n",
      "epoch 83/250, trloss: 0.2229, tracc: 91.5394, valloss: 0.2014, valacc: 92.2035\n",
      "epoch 84/250, trloss: 0.2223, tracc: 91.6572, valloss: 0.2003, valacc: 92.3436\n",
      "epoch 85/250, trloss: 0.2213, tracc: 91.6033, valloss: 0.2002, valacc: 92.2869\n",
      "epoch 86/250, trloss: 0.2221, tracc: 91.5661, valloss: 0.2002, valacc: 92.2969\n",
      "epoch 87/250, trloss: 0.2203, tracc: 91.6255, valloss: 0.2000, valacc: 92.3069\n",
      "epoch 88/250, trloss: 0.2212, tracc: 91.6583, valloss: 0.1994, valacc: 92.3703\n",
      "epoch 89/250, trloss: 0.2201, tracc: 91.7183, valloss: 0.1994, valacc: 92.3970\n",
      "epoch 90/250, trloss: 0.2196, tracc: 91.7050, valloss: 0.1999, valacc: 92.3369\n",
      "epoch 91/250, trloss: 0.2183, tracc: 91.7738, valloss: 0.1991, valacc: 92.3436\n",
      "epoch 92/250, trloss: 0.2187, tracc: 91.7805, valloss: 0.1981, valacc: 92.3970\n",
      "epoch 93/250, trloss: 0.2174, tracc: 91.7905, valloss: 0.1979, valacc: 92.3569\n",
      "epoch 94/250, trloss: 0.2174, tracc: 91.7422, valloss: 0.1985, valacc: 92.3403\n",
      "epoch 95/250, trloss: 0.2168, tracc: 91.8016, valloss: 0.1974, valacc: 92.3936\n",
      "epoch 96/250, trloss: 0.2171, tracc: 91.7138, valloss: 0.1982, valacc: 92.3369\n",
      "epoch 97/250, trloss: 0.2162, tracc: 91.8099, valloss: 0.1974, valacc: 92.3836\n",
      "epoch 98/250, trloss: 0.2163, tracc: 91.7666, valloss: 0.1975, valacc: 92.3703\n",
      "epoch 99/250, trloss: 0.2152, tracc: 91.8644, valloss: 0.1969, valacc: 92.4970\n",
      "epoch 100/250, trloss: 0.2158, tracc: 91.8838, valloss: 0.1977, valacc: 92.4336\n",
      "epoch 101/250, trloss: 0.2154, tracc: 91.8366, valloss: 0.1969, valacc: 92.3736\n",
      "epoch 102/250, trloss: 0.2137, tracc: 91.9472, valloss: 0.1969, valacc: 92.3903\n",
      "epoch 103/250, trloss: 0.2141, tracc: 91.8722, valloss: 0.1958, valacc: 92.4036\n",
      "epoch 104/250, trloss: 0.2137, tracc: 91.9083, valloss: 0.1956, valacc: 92.3269\n",
      "epoch 105/250, trloss: 0.2130, tracc: 91.8583, valloss: 0.1954, valacc: 92.4670\n",
      "epoch 106/250, trloss: 0.2134, tracc: 91.8816, valloss: 0.1953, valacc: 92.4903\n",
      "epoch 107/250, trloss: 0.2135, tracc: 91.8349, valloss: 0.1948, valacc: 92.5170\n",
      "epoch 108/250, trloss: 0.2127, tracc: 91.9627, valloss: 0.1961, valacc: 92.4970\n",
      "epoch 109/250, trloss: 0.2115, tracc: 91.9883, valloss: 0.1953, valacc: 92.4336\n",
      "epoch 110/250, trloss: 0.2124, tracc: 91.9466, valloss: 0.1961, valacc: 92.4036\n",
      "epoch 111/250, trloss: 0.2110, tracc: 91.9466, valloss: 0.1948, valacc: 92.4170\n",
      "epoch 112/250, trloss: 0.2117, tracc: 91.9944, valloss: 0.1941, valacc: 92.4336\n",
      "epoch 113/250, trloss: 0.2102, tracc: 92.0349, valloss: 0.1943, valacc: 92.4870\n",
      "epoch 114/250, trloss: 0.2113, tracc: 91.9783, valloss: 0.1949, valacc: 92.4837\n",
      "epoch 115/250, trloss: 0.2106, tracc: 92.0733, valloss: 0.1949, valacc: 92.4603\n",
      "epoch 116/250, trloss: 0.2099, tracc: 92.0222, valloss: 0.1938, valacc: 92.4837\n",
      "epoch 117/250, trloss: 0.2114, tracc: 91.9644, valloss: 0.1935, valacc: 92.5037\n",
      "epoch 118/250, trloss: 0.2106, tracc: 91.9894, valloss: 0.1930, valacc: 92.5737\n",
      "epoch 119/250, trloss: 0.2095, tracc: 92.0738, valloss: 0.1939, valacc: 92.5437\n",
      "epoch 120/250, trloss: 0.2081, tracc: 92.1310, valloss: 0.1927, valacc: 92.5637\n",
      "epoch 121/250, trloss: 0.2092, tracc: 92.0988, valloss: 0.1931, valacc: 92.4937\n",
      "epoch 122/250, trloss: 0.2081, tracc: 92.1160, valloss: 0.1923, valacc: 92.5804\n",
      "epoch 123/250, trloss: 0.2074, tracc: 92.1910, valloss: 0.1922, valacc: 92.4870\n",
      "epoch 124/250, trloss: 0.2078, tracc: 92.1083, valloss: 0.1923, valacc: 92.5170\n",
      "epoch 125/250, trloss: 0.2071, tracc: 92.1110, valloss: 0.1921, valacc: 92.5637\n",
      "epoch 126/250, trloss: 0.2067, tracc: 92.1344, valloss: 0.1924, valacc: 92.4670\n",
      "epoch 127/250, trloss: 0.2074, tracc: 92.1699, valloss: 0.1923, valacc: 92.5470\n",
      "epoch 128/250, trloss: 0.2064, tracc: 92.2060, valloss: 0.1922, valacc: 92.6004\n",
      "epoch 129/250, trloss: 0.2058, tracc: 92.1283, valloss: 0.1919, valacc: 92.5137\n",
      "epoch 130/250, trloss: 0.2057, tracc: 92.1516, valloss: 0.1924, valacc: 92.5637\n",
      "epoch 131/250, trloss: 0.2052, tracc: 92.2227, valloss: 0.1910, valacc: 92.5604\n",
      "epoch 132/250, trloss: 0.2055, tracc: 92.1510, valloss: 0.1919, valacc: 92.5704\n",
      "epoch 133/250, trloss: 0.2053, tracc: 92.2194, valloss: 0.1915, valacc: 92.5470\n",
      "epoch 134/250, trloss: 0.2044, tracc: 92.2127, valloss: 0.1912, valacc: 92.5937\n",
      "epoch 135/250, trloss: 0.2051, tracc: 92.1666, valloss: 0.1907, valacc: 92.5170\n",
      "epoch 136/250, trloss: 0.2040, tracc: 92.2744, valloss: 0.1907, valacc: 92.5737\n",
      "epoch 137/250, trloss: 0.2035, tracc: 92.2871, valloss: 0.1918, valacc: 92.5237\n",
      "epoch 138/250, trloss: 0.2038, tracc: 92.2921, valloss: 0.1906, valacc: 92.5437\n",
      "epoch 139/250, trloss: 0.2037, tracc: 92.2627, valloss: 0.1908, valacc: 92.5804\n",
      "epoch 140/250, trloss: 0.2025, tracc: 92.3705, valloss: 0.1908, valacc: 92.5704\n",
      "epoch 141/250, trloss: 0.2025, tracc: 92.2927, valloss: 0.1910, valacc: 92.5937\n",
      "epoch 142/250, trloss: 0.2029, tracc: 92.2505, valloss: 0.1901, valacc: 92.5804\n",
      "epoch 143/250, trloss: 0.2028, tracc: 92.3171, valloss: 0.1898, valacc: 92.5437\n",
      "epoch 144/250, trloss: 0.2021, tracc: 92.3416, valloss: 0.1902, valacc: 92.5504\n",
      "epoch 145/250, trloss: 0.2025, tracc: 92.3099, valloss: 0.1890, valacc: 92.5737\n",
      "epoch 146/250, trloss: 0.2024, tracc: 92.3344, valloss: 0.1902, valacc: 92.5904\n",
      "epoch 147/250, trloss: 0.2023, tracc: 92.3071, valloss: 0.1895, valacc: 92.6537\n",
      "epoch 148/250, trloss: 0.2011, tracc: 92.3060, valloss: 0.1895, valacc: 92.5837\n",
      "epoch 149/250, trloss: 0.2014, tracc: 92.2921, valloss: 0.1903, valacc: 92.6037\n",
      "epoch 150/250, trloss: 0.2006, tracc: 92.3238, valloss: 0.1896, valacc: 92.6170\n",
      "epoch 151/250, trloss: 0.2013, tracc: 92.3099, valloss: 0.1906, valacc: 92.6371\n",
      "epoch 152/250, trloss: 0.2009, tracc: 92.3444, valloss: 0.1893, valacc: 92.6104\n",
      "epoch 153/250, trloss: 0.2007, tracc: 92.3955, valloss: 0.1887, valacc: 92.6070\n",
      "epoch 154/250, trloss: 0.2001, tracc: 92.4066, valloss: 0.1896, valacc: 92.6237\n",
      "epoch 155/250, trloss: 0.1996, tracc: 92.3221, valloss: 0.1897, valacc: 92.6471\n",
      "epoch 156/250, trloss: 0.2002, tracc: 92.3621, valloss: 0.1891, valacc: 92.6371\n",
      "epoch 157/250, trloss: 0.1985, tracc: 92.4077, valloss: 0.1886, valacc: 92.6804\n",
      "epoch 158/250, trloss: 0.1992, tracc: 92.4527, valloss: 0.1890, valacc: 92.6704\n",
      "epoch 159/250, trloss: 0.2001, tracc: 92.4199, valloss: 0.1891, valacc: 92.6371\n",
      "epoch 160/250, trloss: 0.1983, tracc: 92.4838, valloss: 0.1882, valacc: 92.6637\n",
      "epoch 161/250, trloss: 0.1983, tracc: 92.4538, valloss: 0.1891, valacc: 92.6271\n",
      "epoch 162/250, trloss: 0.1990, tracc: 92.3938, valloss: 0.1882, valacc: 92.6771\n",
      "epoch 163/250, trloss: 0.1982, tracc: 92.4838, valloss: 0.1876, valacc: 92.6771\n",
      "epoch 164/250, trloss: 0.1993, tracc: 92.4555, valloss: 0.1886, valacc: 92.6604\n",
      "epoch 165/250, trloss: 0.1987, tracc: 92.4610, valloss: 0.1879, valacc: 92.6471\n",
      "epoch 166/250, trloss: 0.1979, tracc: 92.4999, valloss: 0.1882, valacc: 92.5904\n",
      "epoch 167/250, trloss: 0.1977, tracc: 92.4943, valloss: 0.1884, valacc: 92.5537\n",
      "epoch 168/250, trloss: 0.1972, tracc: 92.5232, valloss: 0.1879, valacc: 92.6437\n",
      "epoch 169/250, trloss: 0.1966, tracc: 92.5538, valloss: 0.1881, valacc: 92.6137\n",
      "epoch 170/250, trloss: 0.1972, tracc: 92.4916, valloss: 0.1883, valacc: 92.6804\n",
      "epoch 171/250, trloss: 0.1967, tracc: 92.4977, valloss: 0.1883, valacc: 92.6504\n",
      "epoch 172/250, trloss: 0.1967, tracc: 92.5605, valloss: 0.1877, valacc: 92.7071\n",
      "epoch 173/250, trloss: 0.1959, tracc: 92.5293, valloss: 0.1882, valacc: 92.6237\n",
      "epoch 174/250, trloss: 0.1965, tracc: 92.5632, valloss: 0.1878, valacc: 92.6937\n",
      "epoch 175/250, trloss: 0.1964, tracc: 92.5166, valloss: 0.1876, valacc: 92.6537\n",
      "epoch 176/250, trloss: 0.1959, tracc: 92.5227, valloss: 0.1872, valacc: 92.6437\n",
      "epoch 177/250, trloss: 0.1958, tracc: 92.5505, valloss: 0.1884, valacc: 92.7738\n",
      "epoch 178/250, trloss: 0.1955, tracc: 92.5399, valloss: 0.1868, valacc: 92.7138\n",
      "epoch 179/250, trloss: 0.1945, tracc: 92.6282, valloss: 0.1881, valacc: 92.7037\n",
      "epoch 180/250, trloss: 0.1953, tracc: 92.6099, valloss: 0.1888, valacc: 92.6637\n",
      "epoch 181/250, trloss: 0.1954, tracc: 92.5938, valloss: 0.1880, valacc: 92.7071\n",
      "epoch 182/250, trloss: 0.1948, tracc: 92.5377, valloss: 0.1868, valacc: 92.7504\n",
      "epoch 183/250, trloss: 0.1941, tracc: 92.5882, valloss: 0.1876, valacc: 92.7304\n",
      "epoch 184/250, trloss: 0.1947, tracc: 92.5605, valloss: 0.1869, valacc: 92.6471\n",
      "epoch 185/250, trloss: 0.1939, tracc: 92.6182, valloss: 0.1881, valacc: 92.6204\n",
      "epoch 186/250, trloss: 0.1935, tracc: 92.5771, valloss: 0.1871, valacc: 92.6837\n",
      "epoch 187/250, trloss: 0.1943, tracc: 92.6205, valloss: 0.1870, valacc: 92.6471\n",
      "epoch 188/250, trloss: 0.1937, tracc: 92.5899, valloss: 0.1872, valacc: 92.6604\n",
      "epoch 189/250, trloss: 0.1931, tracc: 92.5866, valloss: 0.1880, valacc: 92.6371\n",
      "epoch 190/250, trloss: 0.1934, tracc: 92.6554, valloss: 0.1869, valacc: 92.7438\n",
      "epoch 191/250, trloss: 0.1924, tracc: 92.6604, valloss: 0.1871, valacc: 92.6737\n",
      "epoch 192/250, trloss: 0.1925, tracc: 92.6255, valloss: 0.1868, valacc: 92.7404\n",
      "epoch 193/250, trloss: 0.1917, tracc: 92.7338, valloss: 0.1872, valacc: 92.6804\n",
      "epoch 194/250, trloss: 0.1932, tracc: 92.5988, valloss: 0.1867, valacc: 92.6604\n",
      "epoch 195/250, trloss: 0.1923, tracc: 92.6105, valloss: 0.1862, valacc: 92.7204\n",
      "epoch 196/250, trloss: 0.1923, tracc: 92.6971, valloss: 0.1868, valacc: 92.7271\n",
      "epoch 197/250, trloss: 0.1920, tracc: 92.6793, valloss: 0.1875, valacc: 92.7338\n",
      "epoch 198/250, trloss: 0.1928, tracc: 92.6777, valloss: 0.1865, valacc: 92.6671\n",
      "epoch 199/250, trloss: 0.1924, tracc: 92.6743, valloss: 0.1863, valacc: 92.6804\n",
      "epoch 200/250, trloss: 0.1907, tracc: 92.7204, valloss: 0.1876, valacc: 92.6704\n",
      "epoch 201/250, trloss: 0.1916, tracc: 92.6582, valloss: 0.1862, valacc: 92.7004\n",
      "epoch 202/250, trloss: 0.1922, tracc: 92.7049, valloss: 0.1868, valacc: 92.7238\n",
      "epoch 203/250, trloss: 0.1914, tracc: 92.7227, valloss: 0.1860, valacc: 92.7438\n",
      "epoch 204/250, trloss: 0.1899, tracc: 92.7854, valloss: 0.1862, valacc: 92.7071\n",
      "epoch 205/250, trloss: 0.1907, tracc: 92.7060, valloss: 0.1869, valacc: 92.7804\n",
      "epoch 206/250, trloss: 0.1915, tracc: 92.7388, valloss: 0.1861, valacc: 92.6704\n",
      "epoch 207/250, trloss: 0.1903, tracc: 92.7688, valloss: 0.1867, valacc: 92.7071\n",
      "epoch 208/250, trloss: 0.1905, tracc: 92.7616, valloss: 0.1864, valacc: 92.7238\n",
      "epoch 209/250, trloss: 0.1899, tracc: 92.7832, valloss: 0.1871, valacc: 92.6170\n",
      "epoch 210/250, trloss: 0.1893, tracc: 92.7610, valloss: 0.1866, valacc: 92.7271\n",
      "epoch 211/250, trloss: 0.1891, tracc: 92.8177, valloss: 0.1863, valacc: 92.7738\n",
      "epoch 212/250, trloss: 0.1898, tracc: 92.7577, valloss: 0.1853, valacc: 92.7904\n",
      "epoch 213/250, trloss: 0.1897, tracc: 92.8143, valloss: 0.1861, valacc: 92.7571\n",
      "epoch 214/250, trloss: 0.1886, tracc: 92.7866, valloss: 0.1858, valacc: 92.7338\n",
      "epoch 215/250, trloss: 0.1893, tracc: 92.8104, valloss: 0.1867, valacc: 92.6904\n",
      "epoch 216/250, trloss: 0.1890, tracc: 92.8332, valloss: 0.1865, valacc: 92.7904\n",
      "epoch 217/250, trloss: 0.1882, tracc: 92.8260, valloss: 0.1861, valacc: 92.7904\n",
      "epoch 218/250, trloss: 0.1891, tracc: 92.7710, valloss: 0.1856, valacc: 92.8005\n",
      "epoch 219/250, trloss: 0.1890, tracc: 92.8282, valloss: 0.1853, valacc: 92.8171\n",
      "epoch 220/250, trloss: 0.1886, tracc: 92.7827, valloss: 0.1859, valacc: 92.7738\n",
      "epoch 221/250, trloss: 0.1870, tracc: 92.8938, valloss: 0.1860, valacc: 92.7538\n",
      "epoch 222/250, trloss: 0.1881, tracc: 92.8554, valloss: 0.1870, valacc: 92.8605\n",
      "epoch 223/250, trloss: 0.1881, tracc: 92.8638, valloss: 0.1870, valacc: 92.7738\n",
      "epoch 224/250, trloss: 0.1877, tracc: 92.8527, valloss: 0.1868, valacc: 92.8138\n",
      "epoch 225/250, trloss: 0.1873, tracc: 92.8349, valloss: 0.1858, valacc: 92.7938\n",
      "epoch 226/250, trloss: 0.1866, tracc: 92.8899, valloss: 0.1869, valacc: 92.7871\n",
      "epoch 227/250, trloss: 0.1873, tracc: 92.9160, valloss: 0.1864, valacc: 92.7671\n",
      "epoch 228/250, trloss: 0.1867, tracc: 92.9121, valloss: 0.1864, valacc: 92.7271\n",
      "epoch 229/250, trloss: 0.1875, tracc: 92.8349, valloss: 0.1856, valacc: 92.7538\n",
      "epoch 230/250, trloss: 0.1855, tracc: 92.9660, valloss: 0.1855, valacc: 92.6971\n",
      "epoch 231/250, trloss: 0.1858, tracc: 92.9560, valloss: 0.1855, valacc: 92.8238\n",
      "epoch 232/250, trloss: 0.1855, tracc: 92.9232, valloss: 0.1864, valacc: 92.7838\n",
      "epoch 233/250, trloss: 0.1871, tracc: 92.8604, valloss: 0.1859, valacc: 92.7538\n",
      "epoch 234/250, trloss: 0.1861, tracc: 92.9115, valloss: 0.1861, valacc: 92.7471\n",
      "epoch 235/250, trloss: 0.1862, tracc: 92.8188, valloss: 0.1867, valacc: 92.6837\n",
      "epoch 236/250, trloss: 0.1862, tracc: 92.9277, valloss: 0.1859, valacc: 92.6904\n",
      "epoch 237/250, trloss: 0.1860, tracc: 92.9165, valloss: 0.1873, valacc: 92.8371\n",
      "epoch 238/250, trloss: 0.1860, tracc: 92.9432, valloss: 0.1857, valacc: 92.6637\n",
      "epoch 239/250, trloss: 0.1859, tracc: 92.9349, valloss: 0.1859, valacc: 92.7204\n",
      "epoch 240/250, trloss: 0.1851, tracc: 92.9365, valloss: 0.1860, valacc: 92.6604\n",
      "epoch 241/250, trloss: 0.1845, tracc: 92.9449, valloss: 0.1855, valacc: 92.7338\n",
      "epoch 242/250, trloss: 0.1855, tracc: 92.9527, valloss: 0.1855, valacc: 92.7304\n",
      "epoch 243/250, trloss: 0.1853, tracc: 92.9354, valloss: 0.1848, valacc: 92.8205\n",
      "epoch 244/250, trloss: 0.1854, tracc: 92.9165, valloss: 0.1854, valacc: 92.7904\n",
      "epoch 245/250, trloss: 0.1845, tracc: 92.9132, valloss: 0.1857, valacc: 92.7371\n",
      "epoch 246/250, trloss: 0.1845, tracc: 92.9765, valloss: 0.1867, valacc: 92.7371\n",
      "epoch 247/250, trloss: 0.1837, tracc: 92.9810, valloss: 0.1858, valacc: 92.7271\n",
      "epoch 248/250, trloss: 0.1839, tracc: 92.9860, valloss: 0.1858, valacc: 92.7938\n",
      "epoch 249/250, trloss: 0.1842, tracc: 92.9321, valloss: 0.1850, valacc: 92.7838\n",
      "epoch 250/250, trloss: 0.1837, tracc: 92.9665, valloss: 0.1859, valacc: 92.8138\n"
     ]
    }
   ],
   "source": [
    "for epoch in range(num_epochs):\n",
    "    iter_loss = 0.0\n",
    "    correct = 0\n",
    "    iterations = 0\n",
    "    total = 0\n",
    "    net.train()\n",
    "    \n",
    "    for i, (features, labels) in enumerate(train_loader):\n",
    "        features = Variable(features.float().cuda())\n",
    "        labels = Variable(labels.long().cuda())\n",
    "        \n",
    "        optimizer.zero_grad()\n",
    "        outputs = net(features)\n",
    "        loss = F.nll_loss(F.log_softmax(outputs, dim=1), labels)\n",
    "        \n",
    "        iter_loss += loss.item()\n",
    "        loss.backward()\n",
    "        optimizer.step()\n",
    "        \n",
    "        _, predicted = torch.max(outputs, 1)\n",
    "        correct += (predicted == labels).sum().item()\n",
    "        total += labels.size(0)\n",
    "        iterations += 1\n",
    "    \n",
    "    train_loss.append(iter_loss / iterations)\n",
    "    train_accuracy.append((100 * correct) / total)\n",
    "    \n",
    "    val_loss = 0.0\n",
    "    correct_val = 0\n",
    "    total_val = 0\n",
    "    net.eval()\n",
    "    \n",
    "    for i, (feat, lab) in enumerate(val_loader):\n",
    "        feat = Variable(feat.float().cuda())\n",
    "        lab = Variable(lab.long().cuda())\n",
    "        \n",
    "        out = net(feat)\n",
    "        loss = F.nll_loss(F.log_softmax(out, dim=1), lab)\n",
    "        \n",
    "        val_loss += loss.item()\n",
    "        _, predicted_val = torch.max(out, 1)\n",
    "        correct_val += (predicted_val == lab).sum().item()\n",
    "        total_val += lab.size(0)\n",
    "    \n",
    "    valid_loss.append(val_loss / len(val_loader))\n",
    "    valid_accuracy.append((100 * correct_val) / total_val)\n",
    "    \n",
    "    print('epoch %d/%d, trloss: %.4f, tracc: %.4f, valloss: %.4f, valacc: %.4f' % (epoch+1, num_epochs, train_loss[-1], train_accuracy[-1], valid_loss[-1], valid_accuracy[-1]))"
   ]
  },
  {
   "cell_type": "code",
   "execution_count": null,
   "id": "79aa6b1f",
   "metadata": {},
   "outputs": [],
   "source": [
    "torch.save(net.state_dict(), 'annclassifier1.pth')"
   ]
  },
  {
   "cell_type": "code",
   "execution_count": 17,
   "id": "640520fc",
   "metadata": {
    "scrolled": true
   },
   "outputs": [
    {
     "data": {
      "image/png": "[encoded data removed]",
      "text/plain": [
       "<Figure size 800x600 with 1 Axes>"
      ]
     },
     "metadata": {},
     "output_type": "display_data"
    }
   ],
   "source": [
    "f = plt.figure(figsize=(8,6))\n",
    "plt.plot(train_accuracy,label='training accuracy')\n",
    "plt.plot(valid_accuracy,label='valid accuracy')\n",
    "plt.legend()\n",
    "plt.show()"
   ]
  },
  {
   "cell_type": "code",
   "execution_count": 18,
   "id": "b3aa0640",
   "metadata": {},
   "outputs": [
    {
     "data": {
      "image/png": "[encoded data removed]",
      "text/plain": [
       "<Figure size 800x600 with 1 Axes>"
      ]
     },
     "metadata": {},
     "output_type": "display_data"
    }
   ],
   "source": [
    "f = plt.figure(figsize=(8,6))\n",
    "plt.plot(train_loss,label='training loss')\n",
    "plt.plot(valid_loss,label='valid loss')\n",
    "plt.legend()\n",
    "plt.show()"
   ]
  },
  {
   "cell_type": "code",
   "execution_count": 19,
   "id": "704b287d",
   "metadata": {
    "scrolled": true
   },
   "outputs": [
    {
     "name": "stdout",
     "output_type": "stream",
     "text": [
      "accuracy : 0.9288\n",
      "precision : 0.9292306800283096\n",
      "recall : 0.9287807923542237\n",
      "f1 score : 0.9289131943585839\n"
     ]
    }
   ],
   "source": [
    "from sklearn.metrics import accuracy_score, precision_score, recall_score, f1_score, confusion_matrix, classification_report\n",
    "net.eval()\n",
    "X_test = X_test.float()\n",
    "X_test = X_test.cuda()\n",
    "y_pred = net(X_test)\n",
    "y_pred = F.softmax(y_pred,dim=1)\n",
    "y_pred = y_pred.detach().cpu().numpy()\n",
    "y_pred = np.argmax(y_pred,axis=1)\n",
    "y_test = y_test.detach().cpu().numpy()\n",
    "acc = accuracy_score(y_test, y_pred)\n",
    "pr = precision_score(y_test, y_pred, average='macro')\n",
    "rec = recall_score(y_test, y_pred, average='macro')\n",
    "f1 = f1_score(y_test,y_pred,average='macro')\n",
    "cm = confusion_matrix(y_pred,y_test)\n",
    "\n",
    "print('accuracy :',acc)\n",
    "print('precision :',pr)\n",
    "print('recall :',rec)\n",
    "print('f1 score :',f1)\n",
    "\n",
    "\n"
   ]
  },
  {
   "cell_type": "code",
   "execution_count": 20,
   "id": "f80c969a",
   "metadata": {},
   "outputs": [
    {
     "data": {
      "text/plain": [
       "array([[9489,  307,  123],\n",
       "       [ 380, 9211,  692],\n",
       "       [ 151,  483, 9164]], dtype=int64)"
      ]
     },
     "execution_count": 20,
     "metadata": {},
     "output_type": "execute_result"
    }
   ],
   "source": [
    "cm"
   ]
  }
 ],
 "metadata": {
  "kernelspec": {
   "display_name": "Python [conda env:torch] *",
   "language": "python",
   "name": "conda-env-torch-py"
  },
  "language_info": {
   "codemirror_mode": {
    "name": "ipython",
    "version": 3
   },
   "file_extension": ".py",
   "mimetype": "text/x-python",
   "name": "python",
   "nbconvert_exporter": "python",
   "pygments_lexer": "ipython3",
   "version": "3.7.16"
  }
 },
 "nbformat": 4,
 "nbformat_minor": 5
}
