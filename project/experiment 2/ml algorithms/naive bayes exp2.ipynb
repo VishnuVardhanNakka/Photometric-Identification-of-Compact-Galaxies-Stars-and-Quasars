{
 "cells": [
  {
   "cell_type": "code",
   "execution_count": 1,
   "id": "58f15f4f",
   "metadata": {},
   "outputs": [],
   "source": [
    "import torch\n",
    "import torch.nn as nn\n",
    "from torch.utils.data import Dataset\n",
    "from sklearn.model_selection import train_test_split\n",
    "from sklearn.metrics import accuracy_score\n",
    "import pandas as pd\n",
    "from torchvision.transforms import Lambda\n",
    "from sklearn.metrics import precision_score, recall_score\n",
    "from sklearn.naive_bayes import GaussianNB\n",
    "import numpy as np"
   ]
  },
  {
   "cell_type": "code",
   "execution_count": 2,
   "id": "ab8ceb69",
   "metadata": {},
   "outputs": [],
   "source": [
    "device = torch.device(\"cuda\" if torch.cuda.is_available() else \"cpu\")\n",
    "class CustomDataset(Dataset):\n",
    "    def __init__(self, file_path, transform=None):\n",
    "        data = pd.read_csv(file_path)\n",
    "        self.features = data.drop(columns=['objid', 'specobjid', 'class', 'run', 'rerun', 'camcol', 'field', 'ra', 'dec', 'redshift'], axis=1)\n",
    "        self.labels = data['class']\n",
    "        self.transform = transform\n",
    "\n",
    "    def __len__(self):\n",
    "        return len(self.features)\n",
    "\n",
    "    def __getitem__(self, index):\n",
    "        feature = self.features.iloc[index]\n",
    "        label_str = self.labels.iloc[index]\n",
    "\n",
    "        # Convert label string to integer\n",
    "        if label_str == 'GALAXY':\n",
    "            label = 0\n",
    "        elif label_str == 'STAR':\n",
    "            label = 1\n",
    "        else:\n",
    "            label = 2\n",
    "        \n",
    "        feature = torch.tensor(feature, dtype=torch.float32).to(device) \n",
    "        label = torch.tensor(label, dtype=torch.long).to(device)  \n",
    "\n",
    "\n",
    "        if self.transform is not None:\n",
    "        \n",
    "            feature = self.transform(feature)\n",
    "\n",
    "        return feature, label\n"
   ]
  },
  {
   "cell_type": "code",
   "execution_count": 3,
   "id": "7c0ad974",
   "metadata": {},
   "outputs": [],
   "source": [
    "transform = Lambda(lambda x: (x - x.mean()) / x.std())\n",
    "csv_file = 'photofeatures_exp2.csv'\n",
    "dataset = CustomDataset(csv_file,transform=transform)\n",
    "X = []\n",
    "y = []\n",
    "\n",
    "for i in range(len(dataset)):\n",
    "    feature, label = dataset[i]\n",
    "    X.append(feature)\n",
    "    y.append(label)\n",
    "\n",
    "X = torch.stack(X)\n",
    "y = torch.stack(y)\n"
   ]
  },
  {
   "cell_type": "code",
   "execution_count": 4,
   "id": "7bed9b52",
   "metadata": {},
   "outputs": [],
   "source": [
    "X_train, X_test, y_train, y_test = train_test_split(X, y, test_size=0.1, random_state=42)\n",
    "X_train, X_val, y_train, y_val = train_test_split(X_train, y_train, test_size=0.11, random_state=42)\n",
    "X_train = torch.Tensor(X_train).to(device)\n",
    "y_train = torch.Tensor(y_train).long().to(device)\n",
    "X_val = torch.Tensor(X_val).to(device)\n",
    "y_val = torch.Tensor(y_val).long().to(device)\n",
    "X_test = torch.Tensor(X_test).to(device)\n",
    "y_test = torch.Tensor(y_test).long().to(device)"
   ]
  },
  {
   "cell_type": "code",
   "execution_count": 5,
   "id": "f158e164",
   "metadata": {},
   "outputs": [],
   "source": [
    "model = GaussianNB()"
   ]
  },
  {
   "cell_type": "code",
   "execution_count": 6,
   "id": "ec19da46",
   "metadata": {},
   "outputs": [
    {
     "data": {
      "text/html": [
       "<style>#sk-container-id-1 {color: black;background-color: white;}#sk-container-id-1 pre{padding: 0;}#sk-container-id-1 div.sk-toggleable {background-color: white;}#sk-container-id-1 label.sk-toggleable__label {cursor: pointer;display: block;width: 100%;margin-bottom: 0;padding: 0.3em;box-sizing: border-box;text-align: center;}#sk-container-id-1 label.sk-toggleable__label-arrow:before {content: \"▸\";float: left;margin-right: 0.25em;color: #696969;}#sk-container-id-1 label.sk-toggleable__label-arrow:hover:before {color: black;}#sk-container-id-1 div.sk-estimator:hover label.sk-toggleable__label-arrow:before {color: black;}#sk-container-id-1 div.sk-toggleable__content {max-height: 0;max-width: 0;overflow: hidden;text-align: left;background-color: #f0f8ff;}#sk-container-id-1 div.sk-toggleable__content pre {margin: 0.2em;color: black;border-radius: 0.25em;background-color: #f0f8ff;}#sk-container-id-1 input.sk-toggleable__control:checked~div.sk-toggleable__content {max-height: 200px;max-width: 100%;overflow: auto;}#sk-container-id-1 input.sk-toggleable__control:checked~label.sk-toggleable__label-arrow:before {content: \"▾\";}#sk-container-id-1 div.sk-estimator input.sk-toggleable__control:checked~label.sk-toggleable__label {background-color: #d4ebff;}#sk-container-id-1 div.sk-label input.sk-toggleable__control:checked~label.sk-toggleable__label {background-color: #d4ebff;}#sk-container-id-1 input.sk-hidden--visually {border: 0;clip: rect(1px 1px 1px 1px);clip: rect(1px, 1px, 1px, 1px);height: 1px;margin: -1px;overflow: hidden;padding: 0;position: absolute;width: 1px;}#sk-container-id-1 div.sk-estimator {font-family: monospace;background-color: #f0f8ff;border: 1px dotted black;border-radius: 0.25em;box-sizing: border-box;margin-bottom: 0.5em;}#sk-container-id-1 div.sk-estimator:hover {background-color: #d4ebff;}#sk-container-id-1 div.sk-parallel-item::after {content: \"\";width: 100%;border-bottom: 1px solid gray;flex-grow: 1;}#sk-container-id-1 div.sk-label:hover label.sk-toggleable__label {background-color: #d4ebff;}#sk-container-id-1 div.sk-serial::before {content: \"\";position: absolute;border-left: 1px solid gray;box-sizing: border-box;top: 0;bottom: 0;left: 50%;z-index: 0;}#sk-container-id-1 div.sk-serial {display: flex;flex-direction: column;align-items: center;background-color: white;padding-right: 0.2em;padding-left: 0.2em;position: relative;}#sk-container-id-1 div.sk-item {position: relative;z-index: 1;}#sk-container-id-1 div.sk-parallel {display: flex;align-items: stretch;justify-content: center;background-color: white;position: relative;}#sk-container-id-1 div.sk-item::before, #sk-container-id-1 div.sk-parallel-item::before {content: \"\";position: absolute;border-left: 1px solid gray;box-sizing: border-box;top: 0;bottom: 0;left: 50%;z-index: -1;}#sk-container-id-1 div.sk-parallel-item {display: flex;flex-direction: column;z-index: 1;position: relative;background-color: white;}#sk-container-id-1 div.sk-parallel-item:first-child::after {align-self: flex-end;width: 50%;}#sk-container-id-1 div.sk-parallel-item:last-child::after {align-self: flex-start;width: 50%;}#sk-container-id-1 div.sk-parallel-item:only-child::after {width: 0;}#sk-container-id-1 div.sk-dashed-wrapped {border: 1px dashed gray;margin: 0 0.4em 0.5em 0.4em;box-sizing: border-box;padding-bottom: 0.4em;background-color: white;}#sk-container-id-1 div.sk-label label {font-family: monospace;font-weight: bold;display: inline-block;line-height: 1.2em;}#sk-container-id-1 div.sk-label-container {text-align: center;}#sk-container-id-1 div.sk-container {/* jupyter's `normalize.less` sets `[hidden] { display: none; }` but bootstrap.min.css set `[hidden] { display: none !important; }` so we also need the `!important` here to be able to override the default hidden behavior on the sphinx rendered scikit-learn.org. See: https://github.com/scikit-learn/scikit-learn/issues/21755 */display: inline-block !important;position: relative;}#sk-container-id-1 div.sk-text-repr-fallback {display: none;}</style><div id=\"sk-container-id-1\" class=\"sk-top-container\"><div class=\"sk-text-repr-fallback\"><pre>GaussianNB()</pre><b>In a Jupyter environment, please rerun this cell to show the HTML representation or trust the notebook. <br />On GitHub, the HTML representation is unable to render, please try loading this page with nbviewer.org.</b></div><div class=\"sk-container\" hidden><div class=\"sk-item\"><div class=\"sk-estimator sk-toggleable\"><input class=\"sk-toggleable__control sk-hidden--visually\" id=\"sk-estimator-id-1\" type=\"checkbox\" checked><label for=\"sk-estimator-id-1\" class=\"sk-toggleable__label sk-toggleable__label-arrow\">GaussianNB</label><div class=\"sk-toggleable__content\"><pre>GaussianNB()</pre></div></div></div></div></div>"
      ],
      "text/plain": [
       "GaussianNB()"
      ]
     },
     "execution_count": 6,
     "metadata": {},
     "output_type": "execute_result"
    }
   ],
   "source": [
    "model.fit(X_train.cpu().numpy(), y_train.cpu().numpy())"
   ]
  },
  {
   "cell_type": "code",
   "execution_count": 7,
   "id": "c718dab3",
   "metadata": {},
   "outputs": [
    {
     "name": "stdout",
     "output_type": "stream",
     "text": [
      "Validation Accuracy: 0.6070707070707071\n"
     ]
    }
   ],
   "source": [
    "y_val_pred = model.predict(X_val.cpu().numpy())\n",
    "y_val = y_val.cpu().numpy()\n",
    "accuracy = accuracy_score(y_val, y_val_pred)\n",
    "print(\"Validation Accuracy:\", accuracy)"
   ]
  },
  {
   "cell_type": "code",
   "execution_count": 8,
   "id": "5adac965",
   "metadata": {},
   "outputs": [
    {
     "name": "stdout",
     "output_type": "stream",
     "text": [
      "Test Accuracy for naive bayes: 0.6056\n"
     ]
    }
   ],
   "source": [
    "names = {0:'GALAXY',1:'STAR',2:'QSO'}\n",
    "y_test_pred = model.predict(X_test.cpu().numpy())\n",
    "y_test = y_test.cpu().numpy()\n",
    "accuracytest = accuracy_score(y_test, y_test_pred)\n",
    "print(\"Test Accuracy for naive bayes:\", accuracytest)"
   ]
  },
  {
   "cell_type": "code",
   "execution_count": 9,
   "id": "848d5d45",
   "metadata": {},
   "outputs": [
    {
     "name": "stdout",
     "output_type": "stream",
     "text": [
      "Precision: 0.6568548044856002\n",
      "Recall: 0.6056\n"
     ]
    }
   ],
   "source": [
    "precisionnb = precision_score(y_test,y_test_pred, average='weighted',zero_division =0 )\n",
    "recallnb = recall_score(y_test,y_test_pred, average='weighted')\n",
    "\n",
    "print(\"Precision:\", precisionnb)\n",
    "print(\"Recall:\", recallnb)"
   ]
  },
  {
   "cell_type": "code",
   "execution_count": 10,
   "id": "ea0cdbb6",
   "metadata": {},
   "outputs": [
    {
     "data": {
      "image/png": "[encoded data removed]",
      "text/plain": [
       "<Figure size 640x480 with 2 Axes>"
      ]
     },
     "metadata": {},
     "output_type": "display_data"
    }
   ],
   "source": [
    "import seaborn as sns\n",
    "import matplotlib.pyplot as plt\n",
    "from sklearn.metrics import confusion_matrix\n",
    "cm = confusion_matrix(y_test,y_test_pred)\n",
    "fig, ax = plt.subplots()\n",
    "sns.heatmap(cm, annot=True, cmap='Blues', fmt='d', cbar=False)\n",
    "class_names = ['GALAXY', 'STAR', 'QSO']\n",
    "ax.set_xlabel('Predicted')\n",
    "ax.set_ylabel('True')\n",
    "ax.set_title('Confusion Matrix')\n",
    "ax.xaxis.set_ticklabels(class_names)\n",
    "ax.yaxis.set_ticklabels(class_names)\n",
    "dummy = plt.imshow([[-1, -1], [1, 1]], cmap='Blues')\n",
    "plt.colorbar(dummy)\n",
    "plt.show()"
   ]
  }
 ],
 "metadata": {
  "kernelspec": {
   "display_name": "Python 3 (ipykernel)",
   "language": "python",
   "name": "python3"
  },
  "language_info": {
   "codemirror_mode": {
    "name": "ipython",
    "version": 3
   },
   "file_extension": ".py",
   "mimetype": "text/x-python",
   "name": "python",
   "nbconvert_exporter": "python",
   "pygments_lexer": "ipython3",
   "version": "3.7.16"
  }
 },
 "nbformat": 4,
 "nbformat_minor": 5
}
